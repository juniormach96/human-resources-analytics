{
 "cells": [
  {
   "cell_type": "markdown",
   "id": "60343520",
   "metadata": {},
   "source": [
    "## Human Resources Analytics"
   ]
  },
  {
   "cell_type": "code",
   "execution_count": 1,
   "id": "8d9b163d",
   "metadata": {},
   "outputs": [],
   "source": [
    "import pandas as pd\n",
    "from minio import Minio\n",
    "import numpy as np\n",
    "import matplotlib.pyplot as plt"
   ]
  },
  {
   "cell_type": "code",
   "execution_count": 2,
   "id": "f5274952",
   "metadata": {},
   "outputs": [],
   "source": [
    "client = Minio(\n",
    "        \"localhost:9000\",\n",
    "        access_key=\"minioadmin\",\n",
    "        secret_key=\"minioadmin\",\n",
    "        secure=False\n",
    "    )"
   ]
  },
  {
   "cell_type": "markdown",
   "id": "838ed69f",
   "metadata": {},
   "source": [
    "### Downloading Dataset from Data Lake"
   ]
  },
  {
   "cell_type": "code",
   "execution_count": 3,
   "id": "bfa60edd",
   "metadata": {},
   "outputs": [],
   "source": [
    "client.fget_object(\n",
    "            \"processing\",\n",
    "            \"employees_dataset.parquet\",\n",
    "            \"temp_.parquet\",\n",
    ")\n",
    "df = pd.read_parquet(\"temp_.parquet\")"
   ]
  },
  {
   "cell_type": "code",
   "execution_count": 4,
   "id": "22142337",
   "metadata": {
    "scrolled": true
   },
   "outputs": [
    {
     "data": {
      "text/html": [
       "<div>\n",
       "<style scoped>\n",
       "    .dataframe tbody tr th:only-of-type {\n",
       "        vertical-align: middle;\n",
       "    }\n",
       "\n",
       "    .dataframe tbody tr th {\n",
       "        vertical-align: top;\n",
       "    }\n",
       "\n",
       "    .dataframe thead th {\n",
       "        text-align: right;\n",
       "    }\n",
       "</style>\n",
       "<table border=\"1\" class=\"dataframe\">\n",
       "  <thead>\n",
       "    <tr style=\"text-align: right;\">\n",
       "      <th></th>\n",
       "      <th>department</th>\n",
       "      <th>salary</th>\n",
       "      <th>left</th>\n",
       "      <th>department.1</th>\n",
       "      <th>salary.1</th>\n",
       "      <th>left.1</th>\n",
       "      <th>mean_work_last_3_months</th>\n",
       "      <th>number_projects</th>\n",
       "      <th>satisfaction_level</th>\n",
       "      <th>last_evaluation</th>\n",
       "      <th>time_in_company</th>\n",
       "      <th>work_accident</th>\n",
       "    </tr>\n",
       "  </thead>\n",
       "  <tbody>\n",
       "    <tr>\n",
       "      <th>0</th>\n",
       "      <td>sales</td>\n",
       "      <td>low</td>\n",
       "      <td>1.0</td>\n",
       "      <td>sales</td>\n",
       "      <td>low</td>\n",
       "      <td>1.0</td>\n",
       "      <td>266.000000</td>\n",
       "      <td>2.0</td>\n",
       "      <td>38.0</td>\n",
       "      <td>53.0</td>\n",
       "      <td>3.0</td>\n",
       "      <td>0.0</td>\n",
       "    </tr>\n",
       "    <tr>\n",
       "      <th>1</th>\n",
       "      <td>sales</td>\n",
       "      <td>medium</td>\n",
       "      <td>1.0</td>\n",
       "      <td>sales</td>\n",
       "      <td>medium</td>\n",
       "      <td>1.0</td>\n",
       "      <td>252.000000</td>\n",
       "      <td>5.0</td>\n",
       "      <td>80.0</td>\n",
       "      <td>86.0</td>\n",
       "      <td>6.0</td>\n",
       "      <td>0.0</td>\n",
       "    </tr>\n",
       "    <tr>\n",
       "      <th>2</th>\n",
       "      <td>sales</td>\n",
       "      <td>medium</td>\n",
       "      <td>1.0</td>\n",
       "      <td>sales</td>\n",
       "      <td>medium</td>\n",
       "      <td>1.0</td>\n",
       "      <td>289.666667</td>\n",
       "      <td>7.0</td>\n",
       "      <td>11.0</td>\n",
       "      <td>88.0</td>\n",
       "      <td>4.0</td>\n",
       "      <td>0.0</td>\n",
       "    </tr>\n",
       "    <tr>\n",
       "      <th>3</th>\n",
       "      <td>sales</td>\n",
       "      <td>low</td>\n",
       "      <td>1.0</td>\n",
       "      <td>sales</td>\n",
       "      <td>low</td>\n",
       "      <td>1.0</td>\n",
       "      <td>275.666667</td>\n",
       "      <td>5.0</td>\n",
       "      <td>72.0</td>\n",
       "      <td>87.0</td>\n",
       "      <td>5.0</td>\n",
       "      <td>0.0</td>\n",
       "    </tr>\n",
       "    <tr>\n",
       "      <th>4</th>\n",
       "      <td>sales</td>\n",
       "      <td>low</td>\n",
       "      <td>1.0</td>\n",
       "      <td>sales</td>\n",
       "      <td>low</td>\n",
       "      <td>1.0</td>\n",
       "      <td>292.333333</td>\n",
       "      <td>2.0</td>\n",
       "      <td>37.0</td>\n",
       "      <td>52.0</td>\n",
       "      <td>3.0</td>\n",
       "      <td>0.0</td>\n",
       "    </tr>\n",
       "  </tbody>\n",
       "</table>\n",
       "</div>"
      ],
      "text/plain": [
       "  department  salary  left department.1 salary.1  left.1  \\\n",
       "0      sales     low   1.0        sales      low     1.0   \n",
       "1      sales  medium   1.0        sales   medium     1.0   \n",
       "2      sales  medium   1.0        sales   medium     1.0   \n",
       "3      sales     low   1.0        sales      low     1.0   \n",
       "4      sales     low   1.0        sales      low     1.0   \n",
       "\n",
       "   mean_work_last_3_months  number_projects  satisfaction_level  \\\n",
       "0               266.000000              2.0                38.0   \n",
       "1               252.000000              5.0                80.0   \n",
       "2               289.666667              7.0                11.0   \n",
       "3               275.666667              5.0                72.0   \n",
       "4               292.333333              2.0                37.0   \n",
       "\n",
       "   last_evaluation  time_in_company  work_accident  \n",
       "0             53.0              3.0            0.0  \n",
       "1             86.0              6.0            0.0  \n",
       "2             88.0              4.0            0.0  \n",
       "3             87.0              5.0            0.0  \n",
       "4             52.0              3.0            0.0  "
      ]
     },
     "execution_count": 4,
     "metadata": {},
     "output_type": "execute_result"
    }
   ],
   "source": [
    "df.head()"
   ]
  },
  {
   "cell_type": "markdown",
   "id": "fc2fa009",
   "metadata": {},
   "source": [
    "#### Organizing the dataset"
   ]
  },
  {
   "cell_type": "code",
   "execution_count": 5,
   "id": "2f5b7a35",
   "metadata": {},
   "outputs": [],
   "source": [
    "df = df[['department', 'salary', 'mean_work_last_3_months',\n",
    "       'number_projects', 'satisfaction_level', 'last_evaluation',\n",
    "       'time_in_company', 'work_accident','left']]"
   ]
  },
  {
   "cell_type": "code",
   "execution_count": 6,
   "id": "b95448bd",
   "metadata": {
    "scrolled": true
   },
   "outputs": [
    {
     "data": {
      "text/html": [
       "<div>\n",
       "<style scoped>\n",
       "    .dataframe tbody tr th:only-of-type {\n",
       "        vertical-align: middle;\n",
       "    }\n",
       "\n",
       "    .dataframe tbody tr th {\n",
       "        vertical-align: top;\n",
       "    }\n",
       "\n",
       "    .dataframe thead th {\n",
       "        text-align: right;\n",
       "    }\n",
       "</style>\n",
       "<table border=\"1\" class=\"dataframe\">\n",
       "  <thead>\n",
       "    <tr style=\"text-align: right;\">\n",
       "      <th></th>\n",
       "      <th>department</th>\n",
       "      <th>salary</th>\n",
       "      <th>mean_work_last_3_months</th>\n",
       "      <th>number_projects</th>\n",
       "      <th>satisfaction_level</th>\n",
       "      <th>last_evaluation</th>\n",
       "      <th>time_in_company</th>\n",
       "      <th>work_accident</th>\n",
       "      <th>left</th>\n",
       "    </tr>\n",
       "  </thead>\n",
       "  <tbody>\n",
       "    <tr>\n",
       "      <th>0</th>\n",
       "      <td>sales</td>\n",
       "      <td>low</td>\n",
       "      <td>266.000000</td>\n",
       "      <td>2.0</td>\n",
       "      <td>38.0</td>\n",
       "      <td>53.0</td>\n",
       "      <td>3.0</td>\n",
       "      <td>0.0</td>\n",
       "      <td>1.0</td>\n",
       "    </tr>\n",
       "    <tr>\n",
       "      <th>1</th>\n",
       "      <td>sales</td>\n",
       "      <td>medium</td>\n",
       "      <td>252.000000</td>\n",
       "      <td>5.0</td>\n",
       "      <td>80.0</td>\n",
       "      <td>86.0</td>\n",
       "      <td>6.0</td>\n",
       "      <td>0.0</td>\n",
       "      <td>1.0</td>\n",
       "    </tr>\n",
       "    <tr>\n",
       "      <th>2</th>\n",
       "      <td>sales</td>\n",
       "      <td>medium</td>\n",
       "      <td>289.666667</td>\n",
       "      <td>7.0</td>\n",
       "      <td>11.0</td>\n",
       "      <td>88.0</td>\n",
       "      <td>4.0</td>\n",
       "      <td>0.0</td>\n",
       "      <td>1.0</td>\n",
       "    </tr>\n",
       "    <tr>\n",
       "      <th>3</th>\n",
       "      <td>sales</td>\n",
       "      <td>low</td>\n",
       "      <td>275.666667</td>\n",
       "      <td>5.0</td>\n",
       "      <td>72.0</td>\n",
       "      <td>87.0</td>\n",
       "      <td>5.0</td>\n",
       "      <td>0.0</td>\n",
       "      <td>1.0</td>\n",
       "    </tr>\n",
       "    <tr>\n",
       "      <th>4</th>\n",
       "      <td>sales</td>\n",
       "      <td>low</td>\n",
       "      <td>292.333333</td>\n",
       "      <td>2.0</td>\n",
       "      <td>37.0</td>\n",
       "      <td>52.0</td>\n",
       "      <td>3.0</td>\n",
       "      <td>0.0</td>\n",
       "      <td>1.0</td>\n",
       "    </tr>\n",
       "  </tbody>\n",
       "</table>\n",
       "</div>"
      ],
      "text/plain": [
       "  department  salary  mean_work_last_3_months  number_projects  \\\n",
       "0      sales     low               266.000000              2.0   \n",
       "1      sales  medium               252.000000              5.0   \n",
       "2      sales  medium               289.666667              7.0   \n",
       "3      sales     low               275.666667              5.0   \n",
       "4      sales     low               292.333333              2.0   \n",
       "\n",
       "   satisfaction_level  last_evaluation  time_in_company  work_accident  left  \n",
       "0                38.0             53.0              3.0            0.0   1.0  \n",
       "1                80.0             86.0              6.0            0.0   1.0  \n",
       "2                11.0             88.0              4.0            0.0   1.0  \n",
       "3                72.0             87.0              5.0            0.0   1.0  \n",
       "4                37.0             52.0              3.0            0.0   1.0  "
      ]
     },
     "execution_count": 6,
     "metadata": {},
     "output_type": "execute_result"
    }
   ],
   "source": [
    "df.head()"
   ]
  },
  {
   "cell_type": "markdown",
   "id": "2b4fa52c",
   "metadata": {},
   "source": [
    "#### Checking for missing records"
   ]
  },
  {
   "cell_type": "code",
   "execution_count": 7,
   "id": "65e92b9c",
   "metadata": {},
   "outputs": [
    {
     "data": {
      "text/plain": [
       "department                 1\n",
       "salary                     1\n",
       "mean_work_last_3_months    0\n",
       "number_projects            1\n",
       "satisfaction_level         1\n",
       "last_evaluation            1\n",
       "time_in_company            1\n",
       "work_accident              1\n",
       "left                       1\n",
       "dtype: int64"
      ]
     },
     "execution_count": 7,
     "metadata": {},
     "output_type": "execute_result"
    }
   ],
   "source": [
    "df.isnull().sum()"
   ]
  },
  {
   "cell_type": "code",
   "execution_count": 8,
   "id": "a6559f2c",
   "metadata": {},
   "outputs": [],
   "source": [
    "df.dropna(inplace=True)"
   ]
  },
  {
   "cell_type": "markdown",
   "id": "6345aae2",
   "metadata": {},
   "source": [
    "#### Changing data types"
   ]
  },
  {
   "cell_type": "code",
   "execution_count": 9,
   "id": "3bed250e",
   "metadata": {},
   "outputs": [],
   "source": [
    "df[\"number_projects\"] = df[\"number_projects\"].astype(int)\n",
    "df[\"mean_work_last_3_months\"] = df[\"mean_work_last_3_months\"].astype(int)\n",
    "df[\"time_in_company\"] = df[\"time_in_company\"].astype(int)\n",
    "df[\"work_accident\"] = df[\"work_accident\"].astype(int)\n",
    "df[\"left\"] = df[\"left\"].astype(int)"
   ]
  },
  {
   "cell_type": "code",
   "execution_count": 10,
   "id": "d41aab97",
   "metadata": {
    "collapsed": true
   },
   "outputs": [
    {
     "name": "stdout",
     "output_type": "stream",
     "text": [
      "<class 'pandas.core.frame.DataFrame'>\n",
      "Int64Index: 14999 entries, 0 to 14998\n",
      "Data columns (total 9 columns):\n",
      " #   Column                   Non-Null Count  Dtype  \n",
      "---  ------                   --------------  -----  \n",
      " 0   department               14999 non-null  object \n",
      " 1   salary                   14999 non-null  object \n",
      " 2   mean_work_last_3_months  14999 non-null  int32  \n",
      " 3   number_projects          14999 non-null  int32  \n",
      " 4   satisfaction_level       14999 non-null  float64\n",
      " 5   last_evaluation          14999 non-null  float64\n",
      " 6   time_in_company          14999 non-null  int32  \n",
      " 7   work_accident            14999 non-null  int32  \n",
      " 8   left                     14999 non-null  int32  \n",
      "dtypes: float64(2), int32(5), object(2)\n",
      "memory usage: 878.8+ KB\n"
     ]
    }
   ],
   "source": [
    "df.info()"
   ]
  },
  {
   "cell_type": "code",
   "execution_count": 11,
   "id": "b3be9995",
   "metadata": {},
   "outputs": [
    {
     "data": {
      "text/html": [
       "<div>\n",
       "<style scoped>\n",
       "    .dataframe tbody tr th:only-of-type {\n",
       "        vertical-align: middle;\n",
       "    }\n",
       "\n",
       "    .dataframe tbody tr th {\n",
       "        vertical-align: top;\n",
       "    }\n",
       "\n",
       "    .dataframe thead th {\n",
       "        text-align: right;\n",
       "    }\n",
       "</style>\n",
       "<table border=\"1\" class=\"dataframe\">\n",
       "  <thead>\n",
       "    <tr style=\"text-align: right;\">\n",
       "      <th></th>\n",
       "      <th>department</th>\n",
       "      <th>salary</th>\n",
       "      <th>mean_work_last_3_months</th>\n",
       "      <th>number_projects</th>\n",
       "      <th>satisfaction_level</th>\n",
       "      <th>last_evaluation</th>\n",
       "      <th>time_in_company</th>\n",
       "      <th>work_accident</th>\n",
       "      <th>left</th>\n",
       "    </tr>\n",
       "  </thead>\n",
       "  <tbody>\n",
       "    <tr>\n",
       "      <th>0</th>\n",
       "      <td>sales</td>\n",
       "      <td>low</td>\n",
       "      <td>266</td>\n",
       "      <td>2</td>\n",
       "      <td>38.0</td>\n",
       "      <td>53.0</td>\n",
       "      <td>3</td>\n",
       "      <td>0</td>\n",
       "      <td>1</td>\n",
       "    </tr>\n",
       "    <tr>\n",
       "      <th>1</th>\n",
       "      <td>sales</td>\n",
       "      <td>medium</td>\n",
       "      <td>252</td>\n",
       "      <td>5</td>\n",
       "      <td>80.0</td>\n",
       "      <td>86.0</td>\n",
       "      <td>6</td>\n",
       "      <td>0</td>\n",
       "      <td>1</td>\n",
       "    </tr>\n",
       "    <tr>\n",
       "      <th>2</th>\n",
       "      <td>sales</td>\n",
       "      <td>medium</td>\n",
       "      <td>289</td>\n",
       "      <td>7</td>\n",
       "      <td>11.0</td>\n",
       "      <td>88.0</td>\n",
       "      <td>4</td>\n",
       "      <td>0</td>\n",
       "      <td>1</td>\n",
       "    </tr>\n",
       "    <tr>\n",
       "      <th>3</th>\n",
       "      <td>sales</td>\n",
       "      <td>low</td>\n",
       "      <td>275</td>\n",
       "      <td>5</td>\n",
       "      <td>72.0</td>\n",
       "      <td>87.0</td>\n",
       "      <td>5</td>\n",
       "      <td>0</td>\n",
       "      <td>1</td>\n",
       "    </tr>\n",
       "    <tr>\n",
       "      <th>4</th>\n",
       "      <td>sales</td>\n",
       "      <td>low</td>\n",
       "      <td>292</td>\n",
       "      <td>2</td>\n",
       "      <td>37.0</td>\n",
       "      <td>52.0</td>\n",
       "      <td>3</td>\n",
       "      <td>0</td>\n",
       "      <td>1</td>\n",
       "    </tr>\n",
       "  </tbody>\n",
       "</table>\n",
       "</div>"
      ],
      "text/plain": [
       "  department  salary  mean_work_last_3_months  number_projects  \\\n",
       "0      sales     low                      266                2   \n",
       "1      sales  medium                      252                5   \n",
       "2      sales  medium                      289                7   \n",
       "3      sales     low                      275                5   \n",
       "4      sales     low                      292                2   \n",
       "\n",
       "   satisfaction_level  last_evaluation  time_in_company  work_accident  left  \n",
       "0                38.0             53.0                3              0     1  \n",
       "1                80.0             86.0                6              0     1  \n",
       "2                11.0             88.0                4              0     1  \n",
       "3                72.0             87.0                5              0     1  \n",
       "4                37.0             52.0                3              0     1  "
      ]
     },
     "execution_count": 11,
     "metadata": {},
     "output_type": "execute_result"
    }
   ],
   "source": [
    "df.head()"
   ]
  },
  {
   "cell_type": "markdown",
   "id": "0732373c",
   "metadata": {},
   "source": [
    "#### Renaming attributes"
   ]
  },
  {
   "cell_type": "code",
   "execution_count": 12,
   "id": "e51e02de",
   "metadata": {},
   "outputs": [],
   "source": [
    "df = df.rename(columns={'satisfaction_level': 'satisfaction', \n",
    "                        'last_evaluation': 'evaluation',\n",
    "                        'number_projects': 'projectCount',\n",
    "                        'mean_work_last_3_months': 'averageMonthlyHours',\n",
    "                        'time_in_company': 'yearsAtCompany',\n",
    "                        'work_accident': 'workAccident',\n",
    "                        'left' : 'turnover'\n",
    "                        })"
   ]
  },
  {
   "cell_type": "markdown",
   "id": "cfd3aa89",
   "metadata": {},
   "source": [
    "#### Label encoder"
   ]
  },
  {
   "cell_type": "code",
   "execution_count": 13,
   "id": "8df7f8fd",
   "metadata": {
    "scrolled": true
   },
   "outputs": [],
   "source": [
    "df[\"department\"] = df[\"department\"].astype('category').cat.codes\n",
    "df[\"salary\"] = df[\"salary\"].astype('category').cat.codes"
   ]
  },
  {
   "cell_type": "markdown",
   "id": "702c4176",
   "metadata": {},
   "source": [
    "#### Separating the data sets"
   ]
  },
  {
   "cell_type": "code",
   "execution_count": 14,
   "id": "d1bfeadb",
   "metadata": {},
   "outputs": [],
   "source": [
    "target_name = 'turnover'\n",
    "X = df.drop('turnover', axis=1)\n",
    "y = df[target_name]"
   ]
  },
  {
   "cell_type": "markdown",
   "id": "3f13d4d6",
   "metadata": {},
   "source": [
    "### Splitting into train and test data"
   ]
  },
  {
   "cell_type": "code",
   "execution_count": 15,
   "id": "965c31d7",
   "metadata": {},
   "outputs": [],
   "source": [
    "from sklearn.model_selection import train_test_split"
   ]
  },
  {
   "cell_type": "code",
   "execution_count": 16,
   "id": "ab76666d",
   "metadata": {},
   "outputs": [],
   "source": [
    "Xtrain, Xtest, ytrain, ytest = train_test_split(X,y,test_size = 0.2,random_state = 42,stratify = y)"
   ]
  },
  {
   "cell_type": "code",
   "execution_count": 17,
   "id": "ee19664d",
   "metadata": {
    "collapsed": true
   },
   "outputs": [],
   "source": [
    "train = pd.concat([Xtrain, ytrain], axis=1)\n",
    "test = pd.concat([Xtest, ytest], axis=1)"
   ]
  },
  {
   "cell_type": "code",
   "execution_count": 18,
   "id": "7ddadf52",
   "metadata": {},
   "outputs": [],
   "source": [
    "from sklearn.tree import DecisionTreeClassifier"
   ]
  },
  {
   "cell_type": "code",
   "execution_count": 19,
   "id": "0fc6cd5f",
   "metadata": {},
   "outputs": [],
   "source": [
    "dtree = DecisionTreeClassifier()\n",
    "dtree = dtree.fit(Xtrain, ytrain)"
   ]
  },
  {
   "cell_type": "code",
   "execution_count": 20,
   "id": "173ce41e",
   "metadata": {},
   "outputs": [],
   "source": [
    "importances = dtree.feature_importances_\n",
    "feat_names = df.drop(['turnover'],axis=1).columns"
   ]
  },
  {
   "cell_type": "code",
   "execution_count": 21,
   "id": "4e6e689c",
   "metadata": {},
   "outputs": [
    {
     "data": {
      "image/png": "[encoded data removed]",
      "text/plain": [
       "<Figure size 864x288 with 1 Axes>"
      ]
     },
     "metadata": {
      "needs_background": "light"
     },
     "output_type": "display_data"
    }
   ],
   "source": [
    "indices = np.argsort(importances)[::-1]\n",
    "plt.figure(figsize=(12,4))\n",
    "plt.title(\"Feature importances by DecisionTreeClassifier\")\n",
    "plt.bar(range(len(indices)), importances[indices], color='lightblue',  align=\"center\")\n",
    "plt.xticks(range(len(indices)), feat_names[indices], rotation='vertical',fontsize=14)\n",
    "plt.xlim([-1, len(indices)])\n",
    "plt.show()"
   ]
  },
  {
   "cell_type": "markdown",
   "id": "ead65df4",
   "metadata": {},
   "source": [
    "#### Select features"
   ]
  },
  {
   "cell_type": "code",
   "execution_count": 22,
   "id": "985a1678",
   "metadata": {},
   "outputs": [],
   "source": [
    "X = df[[\"satisfaction\",\"evaluation\",\"averageMonthlyHours\",\"yearsAtCompany\"]]"
   ]
  },
  {
   "cell_type": "code",
   "execution_count": 34,
   "id": "83f97099",
   "metadata": {},
   "outputs": [],
   "source": [
    "Xtrain, Xtest, ytrain, ytest = train_test_split(X,y,test_size = 0.2,random_state = 42,stratify = y)"
   ]
  },
  {
   "cell_type": "code",
   "execution_count": 35,
   "id": "b9baaf2b",
   "metadata": {},
   "outputs": [],
   "source": [
    "train = pd.concat([Xtrain, ytrain], axis=1)\n",
    "test = pd.concat([Xtest, ytest], axis=1)"
   ]
  },
  {
   "cell_type": "markdown",
   "id": "233aef35",
   "metadata": {},
   "source": [
    "#### Setting a baseline"
   ]
  },
  {
   "cell_type": "code",
   "execution_count": 23,
   "id": "2e5cc004",
   "metadata": {},
   "outputs": [],
   "source": [
    "from sklearn.metrics import roc_auc_score\n",
    "from sklearn.metrics import accuracy_score\n",
    "from sklearn.metrics import classification_report"
   ]
  },
  {
   "cell_type": "code",
   "execution_count": 24,
   "id": "862ce2ee",
   "metadata": {},
   "outputs": [],
   "source": [
    "# Return always zero because we are handling with unbalanced classes\n",
    "def base_rate_model(X) :\n",
    "    y = np.zeros(X.shape[0])\n",
    "    return y"
   ]
  },
  {
   "cell_type": "code",
   "execution_count": 25,
   "id": "f5a951ed",
   "metadata": {},
   "outputs": [],
   "source": [
    "def accuracy_result(y_test,y_predict):\n",
    "    acc = accuracy_score(y_test, y_predict)\n",
    "    print (f\"Accuracy = {np.round(acc,2)}\")"
   ]
  },
  {
   "cell_type": "code",
   "execution_count": 26,
   "id": "c26617eb",
   "metadata": {},
   "outputs": [],
   "source": [
    "def roc_classification_report_results(model,y_test,y_predict):\n",
    "    roc_ = roc_auc_score(y_test, y_predict)\n",
    "    classfication_report = classification_report(y_test, y_predict)\n",
    "    \n",
    "    print (f\"\\n{model} AUC = {roc_}\\n\")\n",
    "    print(classfication_report)"
   ]
  },
  {
   "cell_type": "code",
   "execution_count": 27,
   "id": "0aebf1fb",
   "metadata": {},
   "outputs": [],
   "source": [
    "y_predict = base_rate_model(Xtest)"
   ]
  },
  {
   "cell_type": "code",
   "execution_count": 28,
   "id": "02804d58",
   "metadata": {},
   "outputs": [
    {
     "name": "stdout",
     "output_type": "stream",
     "text": [
      "Accuracy = 0.76\n"
     ]
    }
   ],
   "source": [
    "accuracy_result(ytest, y_predict)"
   ]
  },
  {
   "cell_type": "code",
   "execution_count": 29,
   "id": "905cac5f",
   "metadata": {},
   "outputs": [
    {
     "name": "stdout",
     "output_type": "stream",
     "text": [
      "\n",
      "Base Model AUC = 0.5\n",
      "\n",
      "              precision    recall  f1-score   support\n",
      "\n",
      "           0       0.76      1.00      0.86      2286\n",
      "           1       0.00      0.00      0.00       714\n",
      "\n",
      "    accuracy                           0.76      3000\n",
      "   macro avg       0.38      0.50      0.43      3000\n",
      "weighted avg       0.58      0.76      0.66      3000\n",
      "\n"
     ]
    },
    {
     "name": "stderr",
     "output_type": "stream",
     "text": [
      "d:\\projetos_python2\\bootcampds\\.venv\\lib\\site-packages\\sklearn\\metrics\\_classification.py:1221: UndefinedMetricWarning: Precision and F-score are ill-defined and being set to 0.0 in labels with no predicted samples. Use `zero_division` parameter to control this behavior.\n",
      "  _warn_prf(average, modifier, msg_start, len(result))\n"
     ]
    }
   ],
   "source": [
    "roc_classification_report_results(\"Base Model\", ytest, y_predict)"
   ]
  },
  {
   "cell_type": "markdown",
   "id": "69e52b1b",
   "metadata": {},
   "source": [
    "### Pycaret"
   ]
  },
  {
   "cell_type": "code",
   "execution_count": 30,
   "id": "0552d213",
   "metadata": {},
   "outputs": [],
   "source": [
    "from pycaret.classification import *"
   ]
  },
  {
   "cell_type": "code",
   "execution_count": 36,
   "id": "5de9ab9b",
   "metadata": {
    "scrolled": true,
    "tags": []
   },
   "outputs": [
    {
     "data": {
      "text/html": [
       "<style type=\"text/css\">\n",
       "#T_57be9_row29_col1, #T_57be9_row44_col1, #T_57be9_row58_col1 {\n",
       "  background-color: lightgreen;\n",
       "}\n",
       "</style>\n",
       "<table id=\"T_57be9_\">\n",
       "  <thead>\n",
       "    <tr>\n",
       "      <th class=\"blank level0\" >&nbsp;</th>\n",
       "      <th class=\"col_heading level0 col0\" >Description</th>\n",
       "      <th class=\"col_heading level0 col1\" >Value</th>\n",
       "    </tr>\n",
       "  </thead>\n",
       "  <tbody>\n",
       "    <tr>\n",
       "      <th id=\"T_57be9_level0_row0\" class=\"row_heading level0 row0\" >0</th>\n",
       "      <td id=\"T_57be9_row0_col0\" class=\"data row0 col0\" >session_id</td>\n",
       "      <td id=\"T_57be9_row0_col1\" class=\"data row0 col1\" >3172</td>\n",
       "    </tr>\n",
       "    <tr>\n",
       "      <th id=\"T_57be9_level0_row1\" class=\"row_heading level0 row1\" >1</th>\n",
       "      <td id=\"T_57be9_row1_col0\" class=\"data row1 col0\" >Target</td>\n",
       "      <td id=\"T_57be9_row1_col1\" class=\"data row1 col1\" >turnover</td>\n",
       "    </tr>\n",
       "    <tr>\n",
       "      <th id=\"T_57be9_level0_row2\" class=\"row_heading level0 row2\" >2</th>\n",
       "      <td id=\"T_57be9_row2_col0\" class=\"data row2 col0\" >Target Type</td>\n",
       "      <td id=\"T_57be9_row2_col1\" class=\"data row2 col1\" >Binary</td>\n",
       "    </tr>\n",
       "    <tr>\n",
       "      <th id=\"T_57be9_level0_row3\" class=\"row_heading level0 row3\" >3</th>\n",
       "      <td id=\"T_57be9_row3_col0\" class=\"data row3 col0\" >Label Encoded</td>\n",
       "      <td id=\"T_57be9_row3_col1\" class=\"data row3 col1\" >None</td>\n",
       "    </tr>\n",
       "    <tr>\n",
       "      <th id=\"T_57be9_level0_row4\" class=\"row_heading level0 row4\" >4</th>\n",
       "      <td id=\"T_57be9_row4_col0\" class=\"data row4 col0\" >Original Data</td>\n",
       "      <td id=\"T_57be9_row4_col1\" class=\"data row4 col1\" >(11999, 5)</td>\n",
       "    </tr>\n",
       "    <tr>\n",
       "      <th id=\"T_57be9_level0_row5\" class=\"row_heading level0 row5\" >5</th>\n",
       "      <td id=\"T_57be9_row5_col0\" class=\"data row5 col0\" >Missing Values</td>\n",
       "      <td id=\"T_57be9_row5_col1\" class=\"data row5 col1\" >False</td>\n",
       "    </tr>\n",
       "    <tr>\n",
       "      <th id=\"T_57be9_level0_row6\" class=\"row_heading level0 row6\" >6</th>\n",
       "      <td id=\"T_57be9_row6_col0\" class=\"data row6 col0\" >Numeric Features</td>\n",
       "      <td id=\"T_57be9_row6_col1\" class=\"data row6 col1\" >4</td>\n",
       "    </tr>\n",
       "    <tr>\n",
       "      <th id=\"T_57be9_level0_row7\" class=\"row_heading level0 row7\" >7</th>\n",
       "      <td id=\"T_57be9_row7_col0\" class=\"data row7 col0\" >Categorical Features</td>\n",
       "      <td id=\"T_57be9_row7_col1\" class=\"data row7 col1\" >0</td>\n",
       "    </tr>\n",
       "    <tr>\n",
       "      <th id=\"T_57be9_level0_row8\" class=\"row_heading level0 row8\" >8</th>\n",
       "      <td id=\"T_57be9_row8_col0\" class=\"data row8 col0\" >Ordinal Features</td>\n",
       "      <td id=\"T_57be9_row8_col1\" class=\"data row8 col1\" >False</td>\n",
       "    </tr>\n",
       "    <tr>\n",
       "      <th id=\"T_57be9_level0_row9\" class=\"row_heading level0 row9\" >9</th>\n",
       "      <td id=\"T_57be9_row9_col0\" class=\"data row9 col0\" >High Cardinality Features</td>\n",
       "      <td id=\"T_57be9_row9_col1\" class=\"data row9 col1\" >False</td>\n",
       "    </tr>\n",
       "    <tr>\n",
       "      <th id=\"T_57be9_level0_row10\" class=\"row_heading level0 row10\" >10</th>\n",
       "      <td id=\"T_57be9_row10_col0\" class=\"data row10 col0\" >High Cardinality Method</td>\n",
       "      <td id=\"T_57be9_row10_col1\" class=\"data row10 col1\" >None</td>\n",
       "    </tr>\n",
       "    <tr>\n",
       "      <th id=\"T_57be9_level0_row11\" class=\"row_heading level0 row11\" >11</th>\n",
       "      <td id=\"T_57be9_row11_col0\" class=\"data row11 col0\" >Transformed Train Set</td>\n",
       "      <td id=\"T_57be9_row11_col1\" class=\"data row11 col1\" >(11999, 4)</td>\n",
       "    </tr>\n",
       "    <tr>\n",
       "      <th id=\"T_57be9_level0_row12\" class=\"row_heading level0 row12\" >12</th>\n",
       "      <td id=\"T_57be9_row12_col0\" class=\"data row12 col0\" >Transformed Test Set</td>\n",
       "      <td id=\"T_57be9_row12_col1\" class=\"data row12 col1\" >(3000, 4)</td>\n",
       "    </tr>\n",
       "    <tr>\n",
       "      <th id=\"T_57be9_level0_row13\" class=\"row_heading level0 row13\" >13</th>\n",
       "      <td id=\"T_57be9_row13_col0\" class=\"data row13 col0\" >Shuffle Train-Test</td>\n",
       "      <td id=\"T_57be9_row13_col1\" class=\"data row13 col1\" >True</td>\n",
       "    </tr>\n",
       "    <tr>\n",
       "      <th id=\"T_57be9_level0_row14\" class=\"row_heading level0 row14\" >14</th>\n",
       "      <td id=\"T_57be9_row14_col0\" class=\"data row14 col0\" >Stratify Train-Test</td>\n",
       "      <td id=\"T_57be9_row14_col1\" class=\"data row14 col1\" >True</td>\n",
       "    </tr>\n",
       "    <tr>\n",
       "      <th id=\"T_57be9_level0_row15\" class=\"row_heading level0 row15\" >15</th>\n",
       "      <td id=\"T_57be9_row15_col0\" class=\"data row15 col0\" >Fold Generator</td>\n",
       "      <td id=\"T_57be9_row15_col1\" class=\"data row15 col1\" >StratifiedKFold</td>\n",
       "    </tr>\n",
       "    <tr>\n",
       "      <th id=\"T_57be9_level0_row16\" class=\"row_heading level0 row16\" >16</th>\n",
       "      <td id=\"T_57be9_row16_col0\" class=\"data row16 col0\" >Fold Number</td>\n",
       "      <td id=\"T_57be9_row16_col1\" class=\"data row16 col1\" >10</td>\n",
       "    </tr>\n",
       "    <tr>\n",
       "      <th id=\"T_57be9_level0_row17\" class=\"row_heading level0 row17\" >17</th>\n",
       "      <td id=\"T_57be9_row17_col0\" class=\"data row17 col0\" >CPU Jobs</td>\n",
       "      <td id=\"T_57be9_row17_col1\" class=\"data row17 col1\" >-1</td>\n",
       "    </tr>\n",
       "    <tr>\n",
       "      <th id=\"T_57be9_level0_row18\" class=\"row_heading level0 row18\" >18</th>\n",
       "      <td id=\"T_57be9_row18_col0\" class=\"data row18 col0\" >Use GPU</td>\n",
       "      <td id=\"T_57be9_row18_col1\" class=\"data row18 col1\" >False</td>\n",
       "    </tr>\n",
       "    <tr>\n",
       "      <th id=\"T_57be9_level0_row19\" class=\"row_heading level0 row19\" >19</th>\n",
       "      <td id=\"T_57be9_row19_col0\" class=\"data row19 col0\" >Log Experiment</td>\n",
       "      <td id=\"T_57be9_row19_col1\" class=\"data row19 col1\" >False</td>\n",
       "    </tr>\n",
       "    <tr>\n",
       "      <th id=\"T_57be9_level0_row20\" class=\"row_heading level0 row20\" >20</th>\n",
       "      <td id=\"T_57be9_row20_col0\" class=\"data row20 col0\" >Experiment Name</td>\n",
       "      <td id=\"T_57be9_row20_col1\" class=\"data row20 col1\" >clf-default-name</td>\n",
       "    </tr>\n",
       "    <tr>\n",
       "      <th id=\"T_57be9_level0_row21\" class=\"row_heading level0 row21\" >21</th>\n",
       "      <td id=\"T_57be9_row21_col0\" class=\"data row21 col0\" >USI</td>\n",
       "      <td id=\"T_57be9_row21_col1\" class=\"data row21 col1\" >e1f9</td>\n",
       "    </tr>\n",
       "    <tr>\n",
       "      <th id=\"T_57be9_level0_row22\" class=\"row_heading level0 row22\" >22</th>\n",
       "      <td id=\"T_57be9_row22_col0\" class=\"data row22 col0\" >Imputation Type</td>\n",
       "      <td id=\"T_57be9_row22_col1\" class=\"data row22 col1\" >simple</td>\n",
       "    </tr>\n",
       "    <tr>\n",
       "      <th id=\"T_57be9_level0_row23\" class=\"row_heading level0 row23\" >23</th>\n",
       "      <td id=\"T_57be9_row23_col0\" class=\"data row23 col0\" >Iterative Imputation Iteration</td>\n",
       "      <td id=\"T_57be9_row23_col1\" class=\"data row23 col1\" >None</td>\n",
       "    </tr>\n",
       "    <tr>\n",
       "      <th id=\"T_57be9_level0_row24\" class=\"row_heading level0 row24\" >24</th>\n",
       "      <td id=\"T_57be9_row24_col0\" class=\"data row24 col0\" >Numeric Imputer</td>\n",
       "      <td id=\"T_57be9_row24_col1\" class=\"data row24 col1\" >mean</td>\n",
       "    </tr>\n",
       "    <tr>\n",
       "      <th id=\"T_57be9_level0_row25\" class=\"row_heading level0 row25\" >25</th>\n",
       "      <td id=\"T_57be9_row25_col0\" class=\"data row25 col0\" >Iterative Imputation Numeric Model</td>\n",
       "      <td id=\"T_57be9_row25_col1\" class=\"data row25 col1\" >None</td>\n",
       "    </tr>\n",
       "    <tr>\n",
       "      <th id=\"T_57be9_level0_row26\" class=\"row_heading level0 row26\" >26</th>\n",
       "      <td id=\"T_57be9_row26_col0\" class=\"data row26 col0\" >Categorical Imputer</td>\n",
       "      <td id=\"T_57be9_row26_col1\" class=\"data row26 col1\" >constant</td>\n",
       "    </tr>\n",
       "    <tr>\n",
       "      <th id=\"T_57be9_level0_row27\" class=\"row_heading level0 row27\" >27</th>\n",
       "      <td id=\"T_57be9_row27_col0\" class=\"data row27 col0\" >Iterative Imputation Categorical Model</td>\n",
       "      <td id=\"T_57be9_row27_col1\" class=\"data row27 col1\" >None</td>\n",
       "    </tr>\n",
       "    <tr>\n",
       "      <th id=\"T_57be9_level0_row28\" class=\"row_heading level0 row28\" >28</th>\n",
       "      <td id=\"T_57be9_row28_col0\" class=\"data row28 col0\" >Unknown Categoricals Handling</td>\n",
       "      <td id=\"T_57be9_row28_col1\" class=\"data row28 col1\" >least_frequent</td>\n",
       "    </tr>\n",
       "    <tr>\n",
       "      <th id=\"T_57be9_level0_row29\" class=\"row_heading level0 row29\" >29</th>\n",
       "      <td id=\"T_57be9_row29_col0\" class=\"data row29 col0\" >Normalize</td>\n",
       "      <td id=\"T_57be9_row29_col1\" class=\"data row29 col1\" >True</td>\n",
       "    </tr>\n",
       "    <tr>\n",
       "      <th id=\"T_57be9_level0_row30\" class=\"row_heading level0 row30\" >30</th>\n",
       "      <td id=\"T_57be9_row30_col0\" class=\"data row30 col0\" >Normalize Method</td>\n",
       "      <td id=\"T_57be9_row30_col1\" class=\"data row30 col1\" >minmax</td>\n",
       "    </tr>\n",
       "    <tr>\n",
       "      <th id=\"T_57be9_level0_row31\" class=\"row_heading level0 row31\" >31</th>\n",
       "      <td id=\"T_57be9_row31_col0\" class=\"data row31 col0\" >Transformation</td>\n",
       "      <td id=\"T_57be9_row31_col1\" class=\"data row31 col1\" >False</td>\n",
       "    </tr>\n",
       "    <tr>\n",
       "      <th id=\"T_57be9_level0_row32\" class=\"row_heading level0 row32\" >32</th>\n",
       "      <td id=\"T_57be9_row32_col0\" class=\"data row32 col0\" >Transformation Method</td>\n",
       "      <td id=\"T_57be9_row32_col1\" class=\"data row32 col1\" >None</td>\n",
       "    </tr>\n",
       "    <tr>\n",
       "      <th id=\"T_57be9_level0_row33\" class=\"row_heading level0 row33\" >33</th>\n",
       "      <td id=\"T_57be9_row33_col0\" class=\"data row33 col0\" >PCA</td>\n",
       "      <td id=\"T_57be9_row33_col1\" class=\"data row33 col1\" >False</td>\n",
       "    </tr>\n",
       "    <tr>\n",
       "      <th id=\"T_57be9_level0_row34\" class=\"row_heading level0 row34\" >34</th>\n",
       "      <td id=\"T_57be9_row34_col0\" class=\"data row34 col0\" >PCA Method</td>\n",
       "      <td id=\"T_57be9_row34_col1\" class=\"data row34 col1\" >None</td>\n",
       "    </tr>\n",
       "    <tr>\n",
       "      <th id=\"T_57be9_level0_row35\" class=\"row_heading level0 row35\" >35</th>\n",
       "      <td id=\"T_57be9_row35_col0\" class=\"data row35 col0\" >PCA Components</td>\n",
       "      <td id=\"T_57be9_row35_col1\" class=\"data row35 col1\" >None</td>\n",
       "    </tr>\n",
       "    <tr>\n",
       "      <th id=\"T_57be9_level0_row36\" class=\"row_heading level0 row36\" >36</th>\n",
       "      <td id=\"T_57be9_row36_col0\" class=\"data row36 col0\" >Ignore Low Variance</td>\n",
       "      <td id=\"T_57be9_row36_col1\" class=\"data row36 col1\" >False</td>\n",
       "    </tr>\n",
       "    <tr>\n",
       "      <th id=\"T_57be9_level0_row37\" class=\"row_heading level0 row37\" >37</th>\n",
       "      <td id=\"T_57be9_row37_col0\" class=\"data row37 col0\" >Combine Rare Levels</td>\n",
       "      <td id=\"T_57be9_row37_col1\" class=\"data row37 col1\" >False</td>\n",
       "    </tr>\n",
       "    <tr>\n",
       "      <th id=\"T_57be9_level0_row38\" class=\"row_heading level0 row38\" >38</th>\n",
       "      <td id=\"T_57be9_row38_col0\" class=\"data row38 col0\" >Rare Level Threshold</td>\n",
       "      <td id=\"T_57be9_row38_col1\" class=\"data row38 col1\" >None</td>\n",
       "    </tr>\n",
       "    <tr>\n",
       "      <th id=\"T_57be9_level0_row39\" class=\"row_heading level0 row39\" >39</th>\n",
       "      <td id=\"T_57be9_row39_col0\" class=\"data row39 col0\" >Numeric Binning</td>\n",
       "      <td id=\"T_57be9_row39_col1\" class=\"data row39 col1\" >False</td>\n",
       "    </tr>\n",
       "    <tr>\n",
       "      <th id=\"T_57be9_level0_row40\" class=\"row_heading level0 row40\" >40</th>\n",
       "      <td id=\"T_57be9_row40_col0\" class=\"data row40 col0\" >Remove Outliers</td>\n",
       "      <td id=\"T_57be9_row40_col1\" class=\"data row40 col1\" >False</td>\n",
       "    </tr>\n",
       "    <tr>\n",
       "      <th id=\"T_57be9_level0_row41\" class=\"row_heading level0 row41\" >41</th>\n",
       "      <td id=\"T_57be9_row41_col0\" class=\"data row41 col0\" >Outliers Threshold</td>\n",
       "      <td id=\"T_57be9_row41_col1\" class=\"data row41 col1\" >None</td>\n",
       "    </tr>\n",
       "    <tr>\n",
       "      <th id=\"T_57be9_level0_row42\" class=\"row_heading level0 row42\" >42</th>\n",
       "      <td id=\"T_57be9_row42_col0\" class=\"data row42 col0\" >Remove Multicollinearity</td>\n",
       "      <td id=\"T_57be9_row42_col1\" class=\"data row42 col1\" >False</td>\n",
       "    </tr>\n",
       "    <tr>\n",
       "      <th id=\"T_57be9_level0_row43\" class=\"row_heading level0 row43\" >43</th>\n",
       "      <td id=\"T_57be9_row43_col0\" class=\"data row43 col0\" >Multicollinearity Threshold</td>\n",
       "      <td id=\"T_57be9_row43_col1\" class=\"data row43 col1\" >None</td>\n",
       "    </tr>\n",
       "    <tr>\n",
       "      <th id=\"T_57be9_level0_row44\" class=\"row_heading level0 row44\" >44</th>\n",
       "      <td id=\"T_57be9_row44_col0\" class=\"data row44 col0\" >Remove Perfect Collinearity</td>\n",
       "      <td id=\"T_57be9_row44_col1\" class=\"data row44 col1\" >True</td>\n",
       "    </tr>\n",
       "    <tr>\n",
       "      <th id=\"T_57be9_level0_row45\" class=\"row_heading level0 row45\" >45</th>\n",
       "      <td id=\"T_57be9_row45_col0\" class=\"data row45 col0\" >Clustering</td>\n",
       "      <td id=\"T_57be9_row45_col1\" class=\"data row45 col1\" >False</td>\n",
       "    </tr>\n",
       "    <tr>\n",
       "      <th id=\"T_57be9_level0_row46\" class=\"row_heading level0 row46\" >46</th>\n",
       "      <td id=\"T_57be9_row46_col0\" class=\"data row46 col0\" >Clustering Iteration</td>\n",
       "      <td id=\"T_57be9_row46_col1\" class=\"data row46 col1\" >None</td>\n",
       "    </tr>\n",
       "    <tr>\n",
       "      <th id=\"T_57be9_level0_row47\" class=\"row_heading level0 row47\" >47</th>\n",
       "      <td id=\"T_57be9_row47_col0\" class=\"data row47 col0\" >Polynomial Features</td>\n",
       "      <td id=\"T_57be9_row47_col1\" class=\"data row47 col1\" >False</td>\n",
       "    </tr>\n",
       "    <tr>\n",
       "      <th id=\"T_57be9_level0_row48\" class=\"row_heading level0 row48\" >48</th>\n",
       "      <td id=\"T_57be9_row48_col0\" class=\"data row48 col0\" >Polynomial Degree</td>\n",
       "      <td id=\"T_57be9_row48_col1\" class=\"data row48 col1\" >None</td>\n",
       "    </tr>\n",
       "    <tr>\n",
       "      <th id=\"T_57be9_level0_row49\" class=\"row_heading level0 row49\" >49</th>\n",
       "      <td id=\"T_57be9_row49_col0\" class=\"data row49 col0\" >Trignometry Features</td>\n",
       "      <td id=\"T_57be9_row49_col1\" class=\"data row49 col1\" >False</td>\n",
       "    </tr>\n",
       "    <tr>\n",
       "      <th id=\"T_57be9_level0_row50\" class=\"row_heading level0 row50\" >50</th>\n",
       "      <td id=\"T_57be9_row50_col0\" class=\"data row50 col0\" >Polynomial Threshold</td>\n",
       "      <td id=\"T_57be9_row50_col1\" class=\"data row50 col1\" >None</td>\n",
       "    </tr>\n",
       "    <tr>\n",
       "      <th id=\"T_57be9_level0_row51\" class=\"row_heading level0 row51\" >51</th>\n",
       "      <td id=\"T_57be9_row51_col0\" class=\"data row51 col0\" >Group Features</td>\n",
       "      <td id=\"T_57be9_row51_col1\" class=\"data row51 col1\" >False</td>\n",
       "    </tr>\n",
       "    <tr>\n",
       "      <th id=\"T_57be9_level0_row52\" class=\"row_heading level0 row52\" >52</th>\n",
       "      <td id=\"T_57be9_row52_col0\" class=\"data row52 col0\" >Feature Selection</td>\n",
       "      <td id=\"T_57be9_row52_col1\" class=\"data row52 col1\" >False</td>\n",
       "    </tr>\n",
       "    <tr>\n",
       "      <th id=\"T_57be9_level0_row53\" class=\"row_heading level0 row53\" >53</th>\n",
       "      <td id=\"T_57be9_row53_col0\" class=\"data row53 col0\" >Feature Selection Method</td>\n",
       "      <td id=\"T_57be9_row53_col1\" class=\"data row53 col1\" >classic</td>\n",
       "    </tr>\n",
       "    <tr>\n",
       "      <th id=\"T_57be9_level0_row54\" class=\"row_heading level0 row54\" >54</th>\n",
       "      <td id=\"T_57be9_row54_col0\" class=\"data row54 col0\" >Features Selection Threshold</td>\n",
       "      <td id=\"T_57be9_row54_col1\" class=\"data row54 col1\" >None</td>\n",
       "    </tr>\n",
       "    <tr>\n",
       "      <th id=\"T_57be9_level0_row55\" class=\"row_heading level0 row55\" >55</th>\n",
       "      <td id=\"T_57be9_row55_col0\" class=\"data row55 col0\" >Feature Interaction</td>\n",
       "      <td id=\"T_57be9_row55_col1\" class=\"data row55 col1\" >False</td>\n",
       "    </tr>\n",
       "    <tr>\n",
       "      <th id=\"T_57be9_level0_row56\" class=\"row_heading level0 row56\" >56</th>\n",
       "      <td id=\"T_57be9_row56_col0\" class=\"data row56 col0\" >Feature Ratio</td>\n",
       "      <td id=\"T_57be9_row56_col1\" class=\"data row56 col1\" >False</td>\n",
       "    </tr>\n",
       "    <tr>\n",
       "      <th id=\"T_57be9_level0_row57\" class=\"row_heading level0 row57\" >57</th>\n",
       "      <td id=\"T_57be9_row57_col0\" class=\"data row57 col0\" >Interaction Threshold</td>\n",
       "      <td id=\"T_57be9_row57_col1\" class=\"data row57 col1\" >None</td>\n",
       "    </tr>\n",
       "    <tr>\n",
       "      <th id=\"T_57be9_level0_row58\" class=\"row_heading level0 row58\" >58</th>\n",
       "      <td id=\"T_57be9_row58_col0\" class=\"data row58 col0\" >Fix Imbalance</td>\n",
       "      <td id=\"T_57be9_row58_col1\" class=\"data row58 col1\" >True</td>\n",
       "    </tr>\n",
       "    <tr>\n",
       "      <th id=\"T_57be9_level0_row59\" class=\"row_heading level0 row59\" >59</th>\n",
       "      <td id=\"T_57be9_row59_col0\" class=\"data row59 col0\" >Fix Imbalance Method</td>\n",
       "      <td id=\"T_57be9_row59_col1\" class=\"data row59 col1\" >SMOTE</td>\n",
       "    </tr>\n",
       "  </tbody>\n",
       "</table>\n"
      ],
      "text/plain": [
       "<pandas.io.formats.style.Styler at 0x178aff14940>"
      ]
     },
     "metadata": {},
     "output_type": "display_data"
    }
   ],
   "source": [
    "s = setup(\n",
    "        train,\n",
    "        test_data=test,\n",
    "        target = \"turnover\",\n",
    "        numeric_features = [\"yearsAtCompany\"],\n",
    "        normalize = True,\n",
    "        normalize_method = \"minmax\",\n",
    "        data_split_stratify = True,\n",
    "        fix_imbalance = True,\n",
    "        silent=True)"
   ]
  },
  {
   "cell_type": "markdown",
   "id": "6612ce69",
   "metadata": {
    "tags": []
   },
   "source": [
    "#### Compare different models and select the best"
   ]
  },
  {
   "cell_type": "code",
   "execution_count": 37,
   "id": "02172f9a",
   "metadata": {
    "collapsed": true
   },
   "outputs": [
    {
     "data": {
      "text/html": [
       "<style type=\"text/css\">\n",
       "#T_f3ffd_ th {\n",
       "  text-align: left;\n",
       "}\n",
       "#T_f3ffd_row0_col0, #T_f3ffd_row0_col2, #T_f3ffd_row0_col3, #T_f3ffd_row1_col0, #T_f3ffd_row1_col1, #T_f3ffd_row1_col3, #T_f3ffd_row1_col4, #T_f3ffd_row1_col5, #T_f3ffd_row1_col6, #T_f3ffd_row1_col7, #T_f3ffd_row2_col0, #T_f3ffd_row2_col1, #T_f3ffd_row2_col2, #T_f3ffd_row2_col3, #T_f3ffd_row2_col4, #T_f3ffd_row2_col5, #T_f3ffd_row2_col6, #T_f3ffd_row2_col7, #T_f3ffd_row3_col0, #T_f3ffd_row3_col1, #T_f3ffd_row3_col2, #T_f3ffd_row3_col3, #T_f3ffd_row3_col4, #T_f3ffd_row3_col5, #T_f3ffd_row3_col6, #T_f3ffd_row3_col7, #T_f3ffd_row4_col0, #T_f3ffd_row4_col1, #T_f3ffd_row4_col2, #T_f3ffd_row4_col3, #T_f3ffd_row4_col4, #T_f3ffd_row4_col5, #T_f3ffd_row4_col6, #T_f3ffd_row4_col7, #T_f3ffd_row5_col0, #T_f3ffd_row5_col1, #T_f3ffd_row5_col2, #T_f3ffd_row5_col3, #T_f3ffd_row5_col4, #T_f3ffd_row5_col5, #T_f3ffd_row5_col6, #T_f3ffd_row5_col7, #T_f3ffd_row6_col0, #T_f3ffd_row6_col1, #T_f3ffd_row6_col2, #T_f3ffd_row6_col4, #T_f3ffd_row6_col5, #T_f3ffd_row6_col6, #T_f3ffd_row6_col7, #T_f3ffd_row7_col0, #T_f3ffd_row7_col1, #T_f3ffd_row7_col2, #T_f3ffd_row7_col3, #T_f3ffd_row7_col4, #T_f3ffd_row7_col5, #T_f3ffd_row7_col6, #T_f3ffd_row7_col7, #T_f3ffd_row8_col0, #T_f3ffd_row8_col1, #T_f3ffd_row8_col2, #T_f3ffd_row8_col3, #T_f3ffd_row8_col4, #T_f3ffd_row8_col5, #T_f3ffd_row8_col6, #T_f3ffd_row8_col7, #T_f3ffd_row9_col0, #T_f3ffd_row9_col1, #T_f3ffd_row9_col2, #T_f3ffd_row9_col3, #T_f3ffd_row9_col4, #T_f3ffd_row9_col5, #T_f3ffd_row9_col6, #T_f3ffd_row9_col7, #T_f3ffd_row10_col0, #T_f3ffd_row10_col1, #T_f3ffd_row10_col2, #T_f3ffd_row10_col3, #T_f3ffd_row10_col4, #T_f3ffd_row10_col5, #T_f3ffd_row10_col6, #T_f3ffd_row10_col7, #T_f3ffd_row11_col0, #T_f3ffd_row11_col1, #T_f3ffd_row11_col2, #T_f3ffd_row11_col3, #T_f3ffd_row11_col4, #T_f3ffd_row11_col5, #T_f3ffd_row11_col6, #T_f3ffd_row11_col7, #T_f3ffd_row12_col0, #T_f3ffd_row12_col1, #T_f3ffd_row12_col2, #T_f3ffd_row12_col3, #T_f3ffd_row12_col4, #T_f3ffd_row12_col5, #T_f3ffd_row12_col6, #T_f3ffd_row12_col7, #T_f3ffd_row13_col0, #T_f3ffd_row13_col1, #T_f3ffd_row13_col2, #T_f3ffd_row13_col3, #T_f3ffd_row13_col4, #T_f3ffd_row13_col5, #T_f3ffd_row13_col6, #T_f3ffd_row13_col7 {\n",
       "  text-align: left;\n",
       "}\n",
       "#T_f3ffd_row0_col1, #T_f3ffd_row0_col4, #T_f3ffd_row0_col5, #T_f3ffd_row0_col6, #T_f3ffd_row0_col7, #T_f3ffd_row1_col2, #T_f3ffd_row6_col3 {\n",
       "  text-align: left;\n",
       "  background-color: yellow;\n",
       "}\n",
       "#T_f3ffd_row0_col8, #T_f3ffd_row1_col8, #T_f3ffd_row2_col8, #T_f3ffd_row3_col8, #T_f3ffd_row4_col8, #T_f3ffd_row5_col8, #T_f3ffd_row6_col8, #T_f3ffd_row7_col8, #T_f3ffd_row9_col8, #T_f3ffd_row10_col8, #T_f3ffd_row11_col8, #T_f3ffd_row12_col8, #T_f3ffd_row13_col8 {\n",
       "  text-align: left;\n",
       "  background-color: lightgrey;\n",
       "}\n",
       "#T_f3ffd_row8_col8 {\n",
       "  text-align: left;\n",
       "  background-color: yellow;\n",
       "  background-color: lightgrey;\n",
       "}\n",
       "</style>\n",
       "<table id=\"T_f3ffd_\">\n",
       "  <thead>\n",
       "    <tr>\n",
       "      <th class=\"blank level0\" >&nbsp;</th>\n",
       "      <th class=\"col_heading level0 col0\" >Model</th>\n",
       "      <th class=\"col_heading level0 col1\" >Accuracy</th>\n",
       "      <th class=\"col_heading level0 col2\" >AUC</th>\n",
       "      <th class=\"col_heading level0 col3\" >Recall</th>\n",
       "      <th class=\"col_heading level0 col4\" >Prec.</th>\n",
       "      <th class=\"col_heading level0 col5\" >F1</th>\n",
       "      <th class=\"col_heading level0 col6\" >Kappa</th>\n",
       "      <th class=\"col_heading level0 col7\" >MCC</th>\n",
       "      <th class=\"col_heading level0 col8\" >TT (Sec)</th>\n",
       "    </tr>\n",
       "  </thead>\n",
       "  <tbody>\n",
       "    <tr>\n",
       "      <th id=\"T_f3ffd_level0_row0\" class=\"row_heading level0 row0\" >lightgbm</th>\n",
       "      <td id=\"T_f3ffd_row0_col0\" class=\"data row0 col0\" >Light Gradient Boosting Machine</td>\n",
       "      <td id=\"T_f3ffd_row0_col1\" class=\"data row0 col1\" >0.8455</td>\n",
       "      <td id=\"T_f3ffd_row0_col2\" class=\"data row0 col2\" >0.8070</td>\n",
       "      <td id=\"T_f3ffd_row0_col3\" class=\"data row0 col3\" >0.6598</td>\n",
       "      <td id=\"T_f3ffd_row0_col4\" class=\"data row0 col4\" >0.6815</td>\n",
       "      <td id=\"T_f3ffd_row0_col5\" class=\"data row0 col5\" >0.6701</td>\n",
       "      <td id=\"T_f3ffd_row0_col6\" class=\"data row0 col6\" >0.5693</td>\n",
       "      <td id=\"T_f3ffd_row0_col7\" class=\"data row0 col7\" >0.5697</td>\n",
       "      <td id=\"T_f3ffd_row0_col8\" class=\"data row0 col8\" >0.2140</td>\n",
       "    </tr>\n",
       "    <tr>\n",
       "      <th id=\"T_f3ffd_level0_row1\" class=\"row_heading level0 row1\" >gbc</th>\n",
       "      <td id=\"T_f3ffd_row1_col0\" class=\"data row1 col0\" >Gradient Boosting Classifier</td>\n",
       "      <td id=\"T_f3ffd_row1_col1\" class=\"data row1 col1\" >0.8340</td>\n",
       "      <td id=\"T_f3ffd_row1_col2\" class=\"data row1 col2\" >0.8094</td>\n",
       "      <td id=\"T_f3ffd_row1_col3\" class=\"data row1 col3\" >0.6878</td>\n",
       "      <td id=\"T_f3ffd_row1_col4\" class=\"data row1 col4\" >0.6419</td>\n",
       "      <td id=\"T_f3ffd_row1_col5\" class=\"data row1 col5\" >0.6636</td>\n",
       "      <td id=\"T_f3ffd_row1_col6\" class=\"data row1 col6\" >0.5536</td>\n",
       "      <td id=\"T_f3ffd_row1_col7\" class=\"data row1 col7\" >0.5546</td>\n",
       "      <td id=\"T_f3ffd_row1_col8\" class=\"data row1 col8\" >0.3540</td>\n",
       "    </tr>\n",
       "    <tr>\n",
       "      <th id=\"T_f3ffd_level0_row2\" class=\"row_heading level0 row2\" >rf</th>\n",
       "      <td id=\"T_f3ffd_row2_col0\" class=\"data row2 col0\" >Random Forest Classifier</td>\n",
       "      <td id=\"T_f3ffd_row2_col1\" class=\"data row2 col1\" >0.8142</td>\n",
       "      <td id=\"T_f3ffd_row2_col2\" class=\"data row2 col2\" >0.7830</td>\n",
       "      <td id=\"T_f3ffd_row2_col3\" class=\"data row2 col3\" >0.5660</td>\n",
       "      <td id=\"T_f3ffd_row2_col4\" class=\"data row2 col4\" >0.6213</td>\n",
       "      <td id=\"T_f3ffd_row2_col5\" class=\"data row2 col5\" >0.5919</td>\n",
       "      <td id=\"T_f3ffd_row2_col6\" class=\"data row2 col6\" >0.4721</td>\n",
       "      <td id=\"T_f3ffd_row2_col7\" class=\"data row2 col7\" >0.4732</td>\n",
       "      <td id=\"T_f3ffd_row2_col8\" class=\"data row2 col8\" >0.5080</td>\n",
       "    </tr>\n",
       "    <tr>\n",
       "      <th id=\"T_f3ffd_level0_row3\" class=\"row_heading level0 row3\" >et</th>\n",
       "      <td id=\"T_f3ffd_row3_col0\" class=\"data row3 col0\" >Extra Trees Classifier</td>\n",
       "      <td id=\"T_f3ffd_row3_col1\" class=\"data row3 col1\" >0.8102</td>\n",
       "      <td id=\"T_f3ffd_row3_col2\" class=\"data row3 col2\" >0.7537</td>\n",
       "      <td id=\"T_f3ffd_row3_col3\" class=\"data row3 col3\" >0.5474</td>\n",
       "      <td id=\"T_f3ffd_row3_col4\" class=\"data row3 col4\" >0.6138</td>\n",
       "      <td id=\"T_f3ffd_row3_col5\" class=\"data row3 col5\" >0.5783</td>\n",
       "      <td id=\"T_f3ffd_row3_col6\" class=\"data row3 col6\" >0.4564</td>\n",
       "      <td id=\"T_f3ffd_row3_col7\" class=\"data row3 col7\" >0.4579</td>\n",
       "      <td id=\"T_f3ffd_row3_col8\" class=\"data row3 col8\" >0.3740</td>\n",
       "    </tr>\n",
       "    <tr>\n",
       "      <th id=\"T_f3ffd_level0_row4\" class=\"row_heading level0 row4\" >ada</th>\n",
       "      <td id=\"T_f3ffd_row4_col0\" class=\"data row4 col0\" >Ada Boost Classifier</td>\n",
       "      <td id=\"T_f3ffd_row4_col1\" class=\"data row4 col1\" >0.8122</td>\n",
       "      <td id=\"T_f3ffd_row4_col2\" class=\"data row4 col2\" >0.8015</td>\n",
       "      <td id=\"T_f3ffd_row4_col3\" class=\"data row4 col3\" >0.6899</td>\n",
       "      <td id=\"T_f3ffd_row4_col4\" class=\"data row4 col4\" >0.5911</td>\n",
       "      <td id=\"T_f3ffd_row4_col5\" class=\"data row4 col5\" >0.6362</td>\n",
       "      <td id=\"T_f3ffd_row4_col6\" class=\"data row4 col6\" >0.5107</td>\n",
       "      <td id=\"T_f3ffd_row4_col7\" class=\"data row4 col7\" >0.5138</td>\n",
       "      <td id=\"T_f3ffd_row4_col8\" class=\"data row4 col8\" >0.1680</td>\n",
       "    </tr>\n",
       "    <tr>\n",
       "      <th id=\"T_f3ffd_level0_row5\" class=\"row_heading level0 row5\" >dt</th>\n",
       "      <td id=\"T_f3ffd_row5_col0\" class=\"data row5 col0\" >Decision Tree Classifier</td>\n",
       "      <td id=\"T_f3ffd_row5_col1\" class=\"data row5 col1\" >0.7349</td>\n",
       "      <td id=\"T_f3ffd_row5_col2\" class=\"data row5 col2\" >0.6657</td>\n",
       "      <td id=\"T_f3ffd_row5_col3\" class=\"data row5 col3\" >0.5061</td>\n",
       "      <td id=\"T_f3ffd_row5_col4\" class=\"data row5 col4\" >0.4497</td>\n",
       "      <td id=\"T_f3ffd_row5_col5\" class=\"data row5 col5\" >0.4761</td>\n",
       "      <td id=\"T_f3ffd_row5_col6\" class=\"data row5 col6\" >0.2995</td>\n",
       "      <td id=\"T_f3ffd_row5_col7\" class=\"data row5 col7\" >0.3006</td>\n",
       "      <td id=\"T_f3ffd_row5_col8\" class=\"data row5 col8\" >0.0220</td>\n",
       "    </tr>\n",
       "    <tr>\n",
       "      <th id=\"T_f3ffd_level0_row6\" class=\"row_heading level0 row6\" >qda</th>\n",
       "      <td id=\"T_f3ffd_row6_col0\" class=\"data row6 col0\" >Quadratic Discriminant Analysis</td>\n",
       "      <td id=\"T_f3ffd_row6_col1\" class=\"data row6 col1\" >0.7191</td>\n",
       "      <td id=\"T_f3ffd_row6_col2\" class=\"data row6 col2\" >0.7603</td>\n",
       "      <td id=\"T_f3ffd_row6_col3\" class=\"data row6 col3\" >0.7574</td>\n",
       "      <td id=\"T_f3ffd_row6_col4\" class=\"data row6 col4\" >0.4471</td>\n",
       "      <td id=\"T_f3ffd_row6_col5\" class=\"data row6 col5\" >0.5622</td>\n",
       "      <td id=\"T_f3ffd_row6_col6\" class=\"data row6 col6\" >0.3751</td>\n",
       "      <td id=\"T_f3ffd_row6_col7\" class=\"data row6 col7\" >0.4035</td>\n",
       "      <td id=\"T_f3ffd_row6_col8\" class=\"data row6 col8\" >0.0240</td>\n",
       "    </tr>\n",
       "    <tr>\n",
       "      <th id=\"T_f3ffd_level0_row7\" class=\"row_heading level0 row7\" >knn</th>\n",
       "      <td id=\"T_f3ffd_row7_col0\" class=\"data row7 col0\" >K Neighbors Classifier</td>\n",
       "      <td id=\"T_f3ffd_row7_col1\" class=\"data row7 col1\" >0.7201</td>\n",
       "      <td id=\"T_f3ffd_row7_col2\" class=\"data row7 col2\" >0.7534</td>\n",
       "      <td id=\"T_f3ffd_row7_col3\" class=\"data row7 col3\" >0.7018</td>\n",
       "      <td id=\"T_f3ffd_row7_col4\" class=\"data row7 col4\" >0.4446</td>\n",
       "      <td id=\"T_f3ffd_row7_col5\" class=\"data row7 col5\" >0.5443</td>\n",
       "      <td id=\"T_f3ffd_row7_col6\" class=\"data row7 col6\" >0.3567</td>\n",
       "      <td id=\"T_f3ffd_row7_col7\" class=\"data row7 col7\" >0.3761</td>\n",
       "      <td id=\"T_f3ffd_row7_col8\" class=\"data row7 col8\" >0.0520</td>\n",
       "    </tr>\n",
       "    <tr>\n",
       "      <th id=\"T_f3ffd_level0_row8\" class=\"row_heading level0 row8\" >nb</th>\n",
       "      <td id=\"T_f3ffd_row8_col0\" class=\"data row8 col0\" >Naive Bayes</td>\n",
       "      <td id=\"T_f3ffd_row8_col1\" class=\"data row8 col1\" >0.7084</td>\n",
       "      <td id=\"T_f3ffd_row8_col2\" class=\"data row8 col2\" >0.7130</td>\n",
       "      <td id=\"T_f3ffd_row8_col3\" class=\"data row8 col3\" >0.5926</td>\n",
       "      <td id=\"T_f3ffd_row8_col4\" class=\"data row8 col4\" >0.4209</td>\n",
       "      <td id=\"T_f3ffd_row8_col5\" class=\"data row8 col5\" >0.4920</td>\n",
       "      <td id=\"T_f3ffd_row8_col6\" class=\"data row8 col6\" >0.2958</td>\n",
       "      <td id=\"T_f3ffd_row8_col7\" class=\"data row8 col7\" >0.3044</td>\n",
       "      <td id=\"T_f3ffd_row8_col8\" class=\"data row8 col8\" >0.0140</td>\n",
       "    </tr>\n",
       "    <tr>\n",
       "      <th id=\"T_f3ffd_level0_row9\" class=\"row_heading level0 row9\" >ridge</th>\n",
       "      <td id=\"T_f3ffd_row9_col0\" class=\"data row9 col0\" >Ridge Classifier</td>\n",
       "      <td id=\"T_f3ffd_row9_col1\" class=\"data row9 col1\" >0.6819</td>\n",
       "      <td id=\"T_f3ffd_row9_col2\" class=\"data row9 col2\" >0.0000</td>\n",
       "      <td id=\"T_f3ffd_row9_col3\" class=\"data row9 col3\" >0.6293</td>\n",
       "      <td id=\"T_f3ffd_row9_col4\" class=\"data row9 col4\" >0.3948</td>\n",
       "      <td id=\"T_f3ffd_row9_col5\" class=\"data row9 col5\" >0.4852</td>\n",
       "      <td id=\"T_f3ffd_row9_col6\" class=\"data row9 col6\" >0.2722</td>\n",
       "      <td id=\"T_f3ffd_row9_col7\" class=\"data row9 col7\" >0.2877</td>\n",
       "      <td id=\"T_f3ffd_row9_col8\" class=\"data row9 col8\" >0.0160</td>\n",
       "    </tr>\n",
       "    <tr>\n",
       "      <th id=\"T_f3ffd_level0_row10\" class=\"row_heading level0 row10\" >lda</th>\n",
       "      <td id=\"T_f3ffd_row10_col0\" class=\"data row10 col0\" >Linear Discriminant Analysis</td>\n",
       "      <td id=\"T_f3ffd_row10_col1\" class=\"data row10 col1\" >0.6816</td>\n",
       "      <td id=\"T_f3ffd_row10_col2\" class=\"data row10 col2\" >0.7005</td>\n",
       "      <td id=\"T_f3ffd_row10_col3\" class=\"data row10 col3\" >0.6293</td>\n",
       "      <td id=\"T_f3ffd_row10_col4\" class=\"data row10 col4\" >0.3946</td>\n",
       "      <td id=\"T_f3ffd_row10_col5\" class=\"data row10 col5\" >0.4850</td>\n",
       "      <td id=\"T_f3ffd_row10_col6\" class=\"data row10 col6\" >0.2718</td>\n",
       "      <td id=\"T_f3ffd_row10_col7\" class=\"data row10 col7\" >0.2873</td>\n",
       "      <td id=\"T_f3ffd_row10_col8\" class=\"data row10 col8\" >0.0260</td>\n",
       "    </tr>\n",
       "    <tr>\n",
       "      <th id=\"T_f3ffd_level0_row11\" class=\"row_heading level0 row11\" >lr</th>\n",
       "      <td id=\"T_f3ffd_row11_col0\" class=\"data row11 col0\" >Logistic Regression</td>\n",
       "      <td id=\"T_f3ffd_row11_col1\" class=\"data row11 col1\" >0.6795</td>\n",
       "      <td id=\"T_f3ffd_row11_col2\" class=\"data row11 col2\" >0.7020</td>\n",
       "      <td id=\"T_f3ffd_row11_col3\" class=\"data row11 col3\" >0.6360</td>\n",
       "      <td id=\"T_f3ffd_row11_col4\" class=\"data row11 col4\" >0.3932</td>\n",
       "      <td id=\"T_f3ffd_row11_col5\" class=\"data row11 col5\" >0.4859</td>\n",
       "      <td id=\"T_f3ffd_row11_col6\" class=\"data row11 col6\" >0.2715</td>\n",
       "      <td id=\"T_f3ffd_row11_col7\" class=\"data row11 col7\" >0.2881</td>\n",
       "      <td id=\"T_f3ffd_row11_col8\" class=\"data row11 col8\" >0.0320</td>\n",
       "    </tr>\n",
       "    <tr>\n",
       "      <th id=\"T_f3ffd_level0_row12\" class=\"row_heading level0 row12\" >svm</th>\n",
       "      <td id=\"T_f3ffd_row12_col0\" class=\"data row12 col0\" >SVM - Linear Kernel</td>\n",
       "      <td id=\"T_f3ffd_row12_col1\" class=\"data row12 col1\" >0.5247</td>\n",
       "      <td id=\"T_f3ffd_row12_col2\" class=\"data row12 col2\" >0.0000</td>\n",
       "      <td id=\"T_f3ffd_row12_col3\" class=\"data row12 col3\" >0.5856</td>\n",
       "      <td id=\"T_f3ffd_row12_col4\" class=\"data row12 col4\" >0.2593</td>\n",
       "      <td id=\"T_f3ffd_row12_col5\" class=\"data row12 col5\" >0.3028</td>\n",
       "      <td id=\"T_f3ffd_row12_col6\" class=\"data row12 col6\" >0.0732</td>\n",
       "      <td id=\"T_f3ffd_row12_col7\" class=\"data row12 col7\" >0.1048</td>\n",
       "      <td id=\"T_f3ffd_row12_col8\" class=\"data row12 col8\" >0.1180</td>\n",
       "    </tr>\n",
       "    <tr>\n",
       "      <th id=\"T_f3ffd_level0_row13\" class=\"row_heading level0 row13\" >dummy</th>\n",
       "      <td id=\"T_f3ffd_row13_col0\" class=\"data row13 col0\" >Dummy Classifier</td>\n",
       "      <td id=\"T_f3ffd_row13_col1\" class=\"data row13 col1\" >0.7619</td>\n",
       "      <td id=\"T_f3ffd_row13_col2\" class=\"data row13 col2\" >0.5000</td>\n",
       "      <td id=\"T_f3ffd_row13_col3\" class=\"data row13 col3\" >0.0000</td>\n",
       "      <td id=\"T_f3ffd_row13_col4\" class=\"data row13 col4\" >0.0000</td>\n",
       "      <td id=\"T_f3ffd_row13_col5\" class=\"data row13 col5\" >0.0000</td>\n",
       "      <td id=\"T_f3ffd_row13_col6\" class=\"data row13 col6\" >0.0000</td>\n",
       "      <td id=\"T_f3ffd_row13_col7\" class=\"data row13 col7\" >0.0000</td>\n",
       "      <td id=\"T_f3ffd_row13_col8\" class=\"data row13 col8\" >0.0200</td>\n",
       "    </tr>\n",
       "  </tbody>\n",
       "</table>\n"
      ],
      "text/plain": [
       "<pandas.io.formats.style.Styler at 0x178aee262b0>"
      ]
     },
     "metadata": {},
     "output_type": "display_data"
    }
   ],
   "source": [
    "best = compare_models(fold = 5,sort = 'Precision')"
   ]
  },
  {
   "cell_type": "markdown",
   "id": "d6af08bc",
   "metadata": {},
   "source": [
    "#### Creating the model"
   ]
  },
  {
   "cell_type": "code",
   "execution_count": 38,
   "id": "f6171575",
   "metadata": {},
   "outputs": [
    {
     "data": {
      "text/plain": [
       "LGBMClassifier(boosting_type='gbdt', class_weight=None, colsample_bytree=1.0,\n",
       "               importance_type='split', learning_rate=0.1, max_depth=-1,\n",
       "               min_child_samples=20, min_child_weight=0.001, min_split_gain=0.0,\n",
       "               n_estimators=100, n_jobs=-1, num_leaves=31, objective=None,\n",
       "               random_state=3172, reg_alpha=0.0, reg_lambda=0.0, silent='warn',\n",
       "               subsample=1.0, subsample_for_bin=200000, subsample_freq=0)"
      ]
     },
     "execution_count": 38,
     "metadata": {},
     "output_type": "execute_result"
    }
   ],
   "source": [
    "best"
   ]
  },
  {
   "cell_type": "code",
   "execution_count": 39,
   "id": "edcf1615",
   "metadata": {
    "scrolled": true
   },
   "outputs": [
    {
     "data": {
      "text/html": [
       "<style type=\"text/css\">\n",
       "#T_12685_row5_col0, #T_12685_row5_col1, #T_12685_row5_col2, #T_12685_row5_col3, #T_12685_row5_col4, #T_12685_row5_col5, #T_12685_row5_col6 {\n",
       "  background: yellow;\n",
       "}\n",
       "</style>\n",
       "<table id=\"T_12685_\">\n",
       "  <thead>\n",
       "    <tr>\n",
       "      <th class=\"blank level0\" >&nbsp;</th>\n",
       "      <th class=\"col_heading level0 col0\" >Accuracy</th>\n",
       "      <th class=\"col_heading level0 col1\" >AUC</th>\n",
       "      <th class=\"col_heading level0 col2\" >Recall</th>\n",
       "      <th class=\"col_heading level0 col3\" >Prec.</th>\n",
       "      <th class=\"col_heading level0 col4\" >F1</th>\n",
       "      <th class=\"col_heading level0 col5\" >Kappa</th>\n",
       "      <th class=\"col_heading level0 col6\" >MCC</th>\n",
       "    </tr>\n",
       "  </thead>\n",
       "  <tbody>\n",
       "    <tr>\n",
       "      <th id=\"T_12685_level0_row0\" class=\"row_heading level0 row0\" >0</th>\n",
       "      <td id=\"T_12685_row0_col0\" class=\"data row0 col0\" >0.8425</td>\n",
       "      <td id=\"T_12685_row0_col1\" class=\"data row0 col1\" >0.7910</td>\n",
       "      <td id=\"T_12685_row0_col2\" class=\"data row0 col2\" >0.6270</td>\n",
       "      <td id=\"T_12685_row0_col3\" class=\"data row0 col3\" >0.6845</td>\n",
       "      <td id=\"T_12685_row0_col4\" class=\"data row0 col4\" >0.6545</td>\n",
       "      <td id=\"T_12685_row0_col5\" class=\"data row0 col5\" >0.5527</td>\n",
       "      <td id=\"T_12685_row0_col6\" class=\"data row0 col6\" >0.5536</td>\n",
       "    </tr>\n",
       "    <tr>\n",
       "      <th id=\"T_12685_level0_row1\" class=\"row_heading level0 row1\" >1</th>\n",
       "      <td id=\"T_12685_row1_col0\" class=\"data row1 col0\" >0.8525</td>\n",
       "      <td id=\"T_12685_row1_col1\" class=\"data row1 col1\" >0.8252</td>\n",
       "      <td id=\"T_12685_row1_col2\" class=\"data row1 col2\" >0.6918</td>\n",
       "      <td id=\"T_12685_row1_col3\" class=\"data row1 col3\" >0.6894</td>\n",
       "      <td id=\"T_12685_row1_col4\" class=\"data row1 col4\" >0.6906</td>\n",
       "      <td id=\"T_12685_row1_col5\" class=\"data row1 col5\" >0.5937</td>\n",
       "      <td id=\"T_12685_row1_col6\" class=\"data row1 col6\" >0.5937</td>\n",
       "    </tr>\n",
       "    <tr>\n",
       "      <th id=\"T_12685_level0_row2\" class=\"row_heading level0 row2\" >2</th>\n",
       "      <td id=\"T_12685_row2_col0\" class=\"data row2 col0\" >0.8471</td>\n",
       "      <td id=\"T_12685_row2_col1\" class=\"data row2 col1\" >0.7983</td>\n",
       "      <td id=\"T_12685_row2_col2\" class=\"data row2 col2\" >0.6381</td>\n",
       "      <td id=\"T_12685_row2_col3\" class=\"data row2 col3\" >0.6952</td>\n",
       "      <td id=\"T_12685_row2_col4\" class=\"data row2 col4\" >0.6655</td>\n",
       "      <td id=\"T_12685_row2_col5\" class=\"data row2 col5\" >0.5666</td>\n",
       "      <td id=\"T_12685_row2_col6\" class=\"data row2 col6\" >0.5675</td>\n",
       "    </tr>\n",
       "    <tr>\n",
       "      <th id=\"T_12685_level0_row3\" class=\"row_heading level0 row3\" >3</th>\n",
       "      <td id=\"T_12685_row3_col0\" class=\"data row3 col0\" >0.8379</td>\n",
       "      <td id=\"T_12685_row3_col1\" class=\"data row3 col1\" >0.8123</td>\n",
       "      <td id=\"T_12685_row3_col2\" class=\"data row3 col2\" >0.6556</td>\n",
       "      <td id=\"T_12685_row3_col3\" class=\"data row3 col3\" >0.6614</td>\n",
       "      <td id=\"T_12685_row3_col4\" class=\"data row3 col4\" >0.6585</td>\n",
       "      <td id=\"T_12685_row3_col5\" class=\"data row3 col5\" >0.5522</td>\n",
       "      <td id=\"T_12685_row3_col6\" class=\"data row3 col6\" >0.5522</td>\n",
       "    </tr>\n",
       "    <tr>\n",
       "      <th id=\"T_12685_level0_row4\" class=\"row_heading level0 row4\" >4</th>\n",
       "      <td id=\"T_12685_row4_col0\" class=\"data row4 col0\" >0.8474</td>\n",
       "      <td id=\"T_12685_row4_col1\" class=\"data row4 col1\" >0.8082</td>\n",
       "      <td id=\"T_12685_row4_col2\" class=\"data row4 col2\" >0.6865</td>\n",
       "      <td id=\"T_12685_row4_col3\" class=\"data row4 col3\" >0.6770</td>\n",
       "      <td id=\"T_12685_row4_col4\" class=\"data row4 col4\" >0.6817</td>\n",
       "      <td id=\"T_12685_row4_col5\" class=\"data row4 col5\" >0.5814</td>\n",
       "      <td id=\"T_12685_row4_col6\" class=\"data row4 col6\" >0.5814</td>\n",
       "    </tr>\n",
       "    <tr>\n",
       "      <th id=\"T_12685_level0_row5\" class=\"row_heading level0 row5\" >Mean</th>\n",
       "      <td id=\"T_12685_row5_col0\" class=\"data row5 col0\" >0.8455</td>\n",
       "      <td id=\"T_12685_row5_col1\" class=\"data row5 col1\" >0.8070</td>\n",
       "      <td id=\"T_12685_row5_col2\" class=\"data row5 col2\" >0.6598</td>\n",
       "      <td id=\"T_12685_row5_col3\" class=\"data row5 col3\" >0.6815</td>\n",
       "      <td id=\"T_12685_row5_col4\" class=\"data row5 col4\" >0.6701</td>\n",
       "      <td id=\"T_12685_row5_col5\" class=\"data row5 col5\" >0.5693</td>\n",
       "      <td id=\"T_12685_row5_col6\" class=\"data row5 col6\" >0.5697</td>\n",
       "    </tr>\n",
       "    <tr>\n",
       "      <th id=\"T_12685_level0_row6\" class=\"row_heading level0 row6\" >SD</th>\n",
       "      <td id=\"T_12685_row6_col0\" class=\"data row6 col0\" >0.0049</td>\n",
       "      <td id=\"T_12685_row6_col1\" class=\"data row6 col1\" >0.0118</td>\n",
       "      <td id=\"T_12685_row6_col2\" class=\"data row6 col2\" >0.0257</td>\n",
       "      <td id=\"T_12685_row6_col3\" class=\"data row6 col3\" >0.0117</td>\n",
       "      <td id=\"T_12685_row6_col4\" class=\"data row6 col4\" >0.0138</td>\n",
       "      <td id=\"T_12685_row6_col5\" class=\"data row6 col5\" >0.0162</td>\n",
       "      <td id=\"T_12685_row6_col6\" class=\"data row6 col6\" >0.0160</td>\n",
       "    </tr>\n",
       "  </tbody>\n",
       "</table>\n"
      ],
      "text/plain": [
       "<pandas.io.formats.style.Styler at 0x178afe05d90>"
      ]
     },
     "metadata": {},
     "output_type": "display_data"
    }
   ],
   "source": [
    "best_model = create_model(best, fold = 5)"
   ]
  },
  {
   "cell_type": "markdown",
   "id": "22ab7ba2",
   "metadata": {},
   "source": [
    "#### tunning the model"
   ]
  },
  {
   "cell_type": "code",
   "execution_count": 45,
   "id": "3f02f806",
   "metadata": {
    "scrolled": false,
    "tags": []
   },
   "outputs": [
    {
     "data": {
      "text/html": [
       "<style type=\"text/css\">\n",
       "#T_d2cd5_row5_col0, #T_d2cd5_row5_col1, #T_d2cd5_row5_col2, #T_d2cd5_row5_col3, #T_d2cd5_row5_col4, #T_d2cd5_row5_col5, #T_d2cd5_row5_col6 {\n",
       "  background: yellow;\n",
       "}\n",
       "</style>\n",
       "<table id=\"T_d2cd5_\">\n",
       "  <thead>\n",
       "    <tr>\n",
       "      <th class=\"blank level0\" >&nbsp;</th>\n",
       "      <th class=\"col_heading level0 col0\" >Accuracy</th>\n",
       "      <th class=\"col_heading level0 col1\" >AUC</th>\n",
       "      <th class=\"col_heading level0 col2\" >Recall</th>\n",
       "      <th class=\"col_heading level0 col3\" >Prec.</th>\n",
       "      <th class=\"col_heading level0 col4\" >F1</th>\n",
       "      <th class=\"col_heading level0 col5\" >Kappa</th>\n",
       "      <th class=\"col_heading level0 col6\" >MCC</th>\n",
       "    </tr>\n",
       "  </thead>\n",
       "  <tbody>\n",
       "    <tr>\n",
       "      <th id=\"T_d2cd5_level0_row0\" class=\"row_heading level0 row0\" >0</th>\n",
       "      <td id=\"T_d2cd5_row0_col0\" class=\"data row0 col0\" >0.8425</td>\n",
       "      <td id=\"T_d2cd5_row0_col1\" class=\"data row0 col1\" >0.7960</td>\n",
       "      <td id=\"T_d2cd5_row0_col2\" class=\"data row0 col2\" >0.6182</td>\n",
       "      <td id=\"T_d2cd5_row0_col3\" class=\"data row0 col3\" >0.6881</td>\n",
       "      <td id=\"T_d2cd5_row0_col4\" class=\"data row0 col4\" >0.6513</td>\n",
       "      <td id=\"T_d2cd5_row0_col5\" class=\"data row0 col5\" >0.5499</td>\n",
       "      <td id=\"T_d2cd5_row0_col6\" class=\"data row0 col6\" >0.5513</td>\n",
       "    </tr>\n",
       "    <tr>\n",
       "      <th id=\"T_d2cd5_level0_row1\" class=\"row_heading level0 row1\" >1</th>\n",
       "      <td id=\"T_d2cd5_row1_col0\" class=\"data row1 col0\" >0.8488</td>\n",
       "      <td id=\"T_d2cd5_row1_col1\" class=\"data row1 col1\" >0.8183</td>\n",
       "      <td id=\"T_d2cd5_row1_col2\" class=\"data row1 col2\" >0.6778</td>\n",
       "      <td id=\"T_d2cd5_row1_col3\" class=\"data row1 col3\" >0.6837</td>\n",
       "      <td id=\"T_d2cd5_row1_col4\" class=\"data row1 col4\" >0.6807</td>\n",
       "      <td id=\"T_d2cd5_row1_col5\" class=\"data row1 col5\" >0.5816</td>\n",
       "      <td id=\"T_d2cd5_row1_col6\" class=\"data row1 col6\" >0.5817</td>\n",
       "    </tr>\n",
       "    <tr>\n",
       "      <th id=\"T_d2cd5_level0_row2\" class=\"row_heading level0 row2\" >2</th>\n",
       "      <td id=\"T_d2cd5_row2_col0\" class=\"data row2 col0\" >0.8467</td>\n",
       "      <td id=\"T_d2cd5_row2_col1\" class=\"data row2 col1\" >0.7940</td>\n",
       "      <td id=\"T_d2cd5_row2_col2\" class=\"data row2 col2\" >0.6136</td>\n",
       "      <td id=\"T_d2cd5_row2_col3\" class=\"data row2 col3\" >0.7048</td>\n",
       "      <td id=\"T_d2cd5_row2_col4\" class=\"data row2 col4\" >0.6561</td>\n",
       "      <td id=\"T_d2cd5_row2_col5\" class=\"data row2 col5\" >0.5580</td>\n",
       "      <td id=\"T_d2cd5_row2_col6\" class=\"data row2 col6\" >0.5602</td>\n",
       "    </tr>\n",
       "    <tr>\n",
       "      <th id=\"T_d2cd5_level0_row3\" class=\"row_heading level0 row3\" >3</th>\n",
       "      <td id=\"T_d2cd5_row3_col0\" class=\"data row3 col0\" >0.8329</td>\n",
       "      <td id=\"T_d2cd5_row3_col1\" class=\"data row3 col1\" >0.8040</td>\n",
       "      <td id=\"T_d2cd5_row3_col2\" class=\"data row3 col2\" >0.6451</td>\n",
       "      <td id=\"T_d2cd5_row3_col3\" class=\"data row3 col3\" >0.6508</td>\n",
       "      <td id=\"T_d2cd5_row3_col4\" class=\"data row3 col4\" >0.6479</td>\n",
       "      <td id=\"T_d2cd5_row3_col5\" class=\"data row3 col5\" >0.5384</td>\n",
       "      <td id=\"T_d2cd5_row3_col6\" class=\"data row3 col6\" >0.5384</td>\n",
       "    </tr>\n",
       "    <tr>\n",
       "      <th id=\"T_d2cd5_level0_row4\" class=\"row_heading level0 row4\" >4</th>\n",
       "      <td id=\"T_d2cd5_row4_col0\" class=\"data row4 col0\" >0.8499</td>\n",
       "      <td id=\"T_d2cd5_row4_col1\" class=\"data row4 col1\" >0.8049</td>\n",
       "      <td id=\"T_d2cd5_row4_col2\" class=\"data row4 col2\" >0.6690</td>\n",
       "      <td id=\"T_d2cd5_row4_col3\" class=\"data row4 col3\" >0.6908</td>\n",
       "      <td id=\"T_d2cd5_row4_col4\" class=\"data row4 col4\" >0.6797</td>\n",
       "      <td id=\"T_d2cd5_row4_col5\" class=\"data row4 col5\" >0.5818</td>\n",
       "      <td id=\"T_d2cd5_row4_col6\" class=\"data row4 col6\" >0.5819</td>\n",
       "    </tr>\n",
       "    <tr>\n",
       "      <th id=\"T_d2cd5_level0_row5\" class=\"row_heading level0 row5\" >Mean</th>\n",
       "      <td id=\"T_d2cd5_row5_col0\" class=\"data row5 col0\" >0.8442</td>\n",
       "      <td id=\"T_d2cd5_row5_col1\" class=\"data row5 col1\" >0.8035</td>\n",
       "      <td id=\"T_d2cd5_row5_col2\" class=\"data row5 col2\" >0.6447</td>\n",
       "      <td id=\"T_d2cd5_row5_col3\" class=\"data row5 col3\" >0.6836</td>\n",
       "      <td id=\"T_d2cd5_row5_col4\" class=\"data row5 col4\" >0.6632</td>\n",
       "      <td id=\"T_d2cd5_row5_col5\" class=\"data row5 col5\" >0.5620</td>\n",
       "      <td id=\"T_d2cd5_row5_col6\" class=\"data row5 col6\" >0.5627</td>\n",
       "    </tr>\n",
       "    <tr>\n",
       "      <th id=\"T_d2cd5_level0_row6\" class=\"row_heading level0 row6\" >SD</th>\n",
       "      <td id=\"T_d2cd5_row6_col0\" class=\"data row6 col0\" >0.0062</td>\n",
       "      <td id=\"T_d2cd5_row6_col1\" class=\"data row6 col1\" >0.0086</td>\n",
       "      <td id=\"T_d2cd5_row6_col2\" class=\"data row6 col2\" >0.0259</td>\n",
       "      <td id=\"T_d2cd5_row6_col3\" class=\"data row6 col3\" >0.0179</td>\n",
       "      <td id=\"T_d2cd5_row6_col4\" class=\"data row6 col4\" >0.0142</td>\n",
       "      <td id=\"T_d2cd5_row6_col5\" class=\"data row6 col5\" >0.0173</td>\n",
       "      <td id=\"T_d2cd5_row6_col6\" class=\"data row6 col6\" >0.0171</td>\n",
       "    </tr>\n",
       "  </tbody>\n",
       "</table>\n"
      ],
      "text/plain": [
       "<pandas.io.formats.style.Styler at 0x178afb310d0>"
      ]
     },
     "metadata": {},
     "output_type": "display_data"
    }
   ],
   "source": [
    "tuned_model = tune_model(\n",
    "        best_model,\n",
    "        fold=5,\n",
    "        n_iter = 50,\n",
    "        optimize = 'Precision')"
   ]
  },
  {
   "cell_type": "markdown",
   "id": "b498f3ab",
   "metadata": {},
   "source": [
    "#### Finalize the model"
   ]
  },
  {
   "cell_type": "code",
   "execution_count": 49,
   "id": "3b110ac6",
   "metadata": {},
   "outputs": [],
   "source": [
    "final_model = finalize_model(tuned_model)"
   ]
  },
  {
   "cell_type": "code",
   "execution_count": 50,
   "id": "d0a246f8",
   "metadata": {},
   "outputs": [
    {
     "name": "stdout",
     "output_type": "stream",
     "text": [
      "Transformation Pipeline and Model Successfully Saved\n"
     ]
    },
    {
     "data": {
      "text/plain": [
       "(Pipeline(memory=None,\n",
       "          steps=[('dtypes',\n",
       "                  DataTypes_Auto_infer(categorical_features=[],\n",
       "                                       display_types=False, features_todrop=[],\n",
       "                                       id_columns=[],\n",
       "                                       ml_usecase='classification',\n",
       "                                       numerical_features=['yearsAtCompany'],\n",
       "                                       target='turnover', time_features=[])),\n",
       "                 ('imputer',\n",
       "                  Simple_Imputer(categorical_strategy='not_available',\n",
       "                                 fill_value_categorical=None,\n",
       "                                 fill_value_numerical...\n",
       "                                 colsample_bytree=1.0, feature_fraction=0.8,\n",
       "                                 importance_type='split', learning_rate=0.4,\n",
       "                                 max_depth=-1, min_child_samples=21,\n",
       "                                 min_child_weight=0.001, min_split_gain=0.5,\n",
       "                                 n_estimators=280, n_jobs=-1, num_leaves=50,\n",
       "                                 objective=None, random_state=3172,\n",
       "                                 reg_alpha=1e-06, reg_lambda=0.1, silent='warn',\n",
       "                                 subsample=1.0, subsample_for_bin=200000,\n",
       "                                 subsample_freq=0)]],\n",
       "          verbose=False),\n",
       " 'model.pkl')"
      ]
     },
     "execution_count": 50,
     "metadata": {},
     "output_type": "execute_result"
    }
   ],
   "source": [
    "save_model(final_model,'model')"
   ]
  },
  {
   "cell_type": "markdown",
   "id": "a87ed577",
   "metadata": {},
   "source": [
    "#### Transfer to the Data Lake"
   ]
  },
  {
   "cell_type": "code",
   "execution_count": 51,
   "id": "b438b749",
   "metadata": {},
   "outputs": [
    {
     "data": {
      "text/plain": [
       "<minio.helpers.ObjectWriteResult at 0x178b4510820>"
      ]
     },
     "execution_count": 51,
     "metadata": {},
     "output_type": "execute_result"
    }
   ],
   "source": [
    "client.fput_object(\n",
    "    \"curated\",\n",
    "    \"model.pkl\",\n",
    "    \"model.pkl\"\n",
    ")"
   ]
  },
  {
   "cell_type": "code",
   "execution_count": 52,
   "id": "a65fc51b",
   "metadata": {
    "scrolled": true
   },
   "outputs": [],
   "source": [
    "df.to_csv(\"dataset.csv\",index=False)"
   ]
  },
  {
   "cell_type": "code",
   "execution_count": 53,
   "id": "bc43bf6c",
   "metadata": {
    "scrolled": true
   },
   "outputs": [
    {
     "data": {
      "text/plain": [
       "<minio.helpers.ObjectWriteResult at 0x178b119bd30>"
      ]
     },
     "execution_count": 53,
     "metadata": {},
     "output_type": "execute_result"
    }
   ],
   "source": [
    "client.fput_object(\n",
    "    \"curated\",\n",
    "    \"dataset.csv\",\n",
    "    \"dataset.csv\"\n",
    ")"
   ]
  }
 ],
 "metadata": {
  "kernelspec": {
   "display_name": "Python 3",
   "language": "python",
   "name": "python3"
  },
  "language_info": {
   "codemirror_mode": {
    "name": "ipython",
    "version": 3
   },
   "file_extension": ".py",
   "mimetype": "text/x-python",
   "name": "python",
   "nbconvert_exporter": "python",
   "pygments_lexer": "ipython3",
   "version": "3.9.10"
  }
 },
 "nbformat": 4,
 "nbformat_minor": 5
}
